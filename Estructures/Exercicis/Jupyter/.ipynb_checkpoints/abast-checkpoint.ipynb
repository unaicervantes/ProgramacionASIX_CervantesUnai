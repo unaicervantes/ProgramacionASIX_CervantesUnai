{
 "cells": [
  {
   "cell_type": "markdown",
   "id": "389476c1",
   "metadata": {},
   "source": [
    "# Abast i mutabilitat (scope)\n",
    "## Abast\n",
    "Quan treballem amb funcions no totes les variables es poden veure des de qualsevol part del programa. Al troç de programa on una variable és visible li diem '__abast__'.\n",
    "Per exemple:\n",
    "    Una funció que definim dins d'una funció no la podem veure des de fora:"
   ]
  },
  {
   "cell_type": "code",
   "execution_count": 1,
   "id": "f5cd2caf",
   "metadata": {},
   "outputs": [
    {
     "name": "stdout",
     "output_type": "stream",
     "text": [
      "Dins de la funció: variable_interna = 5\n"
     ]
    },
    {
     "ename": "NameError",
     "evalue": "name 'variable_interna' is not defined",
     "output_type": "error",
     "traceback": [
      "\u001b[0;31m---------------------------------------------------------------------------\u001b[0m",
      "\u001b[0;31mNameError\u001b[0m                                 Traceback (most recent call last)",
      "Input \u001b[0;32mIn [1]\u001b[0m, in \u001b[0;36m<module>\u001b[0;34m\u001b[0m\n\u001b[1;32m      3\u001b[0m     \u001b[38;5;28mprint\u001b[39m(\u001b[38;5;124mf\u001b[39m\u001b[38;5;124m\"\u001b[39m\u001b[38;5;124mDins de la funció: \u001b[39m\u001b[38;5;132;01m{\u001b[39;00mvariable_interna \u001b[38;5;132;01m= }\u001b[39;00m\u001b[38;5;124m\"\u001b[39m)\n\u001b[1;32m      5\u001b[0m la_meva_funcio()\n\u001b[0;32m----> 6\u001b[0m \u001b[38;5;28mprint\u001b[39m(\u001b[38;5;124mf\u001b[39m\u001b[38;5;124m\"\u001b[39m\u001b[38;5;124mFora de la funció: \u001b[39m\u001b[38;5;132;01m{\u001b[39;00mvariable_interna \u001b[38;5;132;01m= }\u001b[39;00m\u001b[38;5;124m\"\u001b[39m)\n",
      "\u001b[0;31mNameError\u001b[0m: name 'variable_interna' is not defined"
     ]
    }
   ],
   "source": [
    "\n",
    "\n",
    "def la_meva_funcio():\n",
    "    variable_interna = 5;\n",
    "    print(f\"Dins de la funció: {variable_interna = }\")\n",
    "\n",
    "la_meva_funcio()\n",
    "print(f\"Fora de la funció: {variable_interna = }\")"
   ]
  },
  {
   "cell_type": "markdown",
   "id": "3f772ccc",
   "metadata": {},
   "source": [
    "Però dins de les funcions _si_ que podem veure les variables que s'han definit a fora:"
   ]
  },
  {
   "cell_type": "code",
   "execution_count": null,
   "id": "95cc65f6",
   "metadata": {},
   "outputs": [],
   "source": [
    "variable_externa = 5\n",
    "\n",
    "\n",
    "def suma_interna_externa():\n",
    "    variable_interna = 3\n",
    "    print (f\"{variable_interna + variable_externa = }\")\n",
    "    \n",
    "suma_interna_externa()"
   ]
  },
  {
   "cell_type": "markdown",
   "id": "9b364360",
   "metadata": {},
   "source": [
    "## Mutabilitat\n",
    "Segurament que hem sentit alguna vegada que Python és un programa orientat a objectes. Nosaltres de moment no sabem què és un objecte, però per a Python internament tots els tipus de dades són objectes i això vol dir que totes les variables tenen algunes coses en comú; per exemple a Python, totes les dades tenen una __identitat__, un __tipus__ i un __valor__.\n",
    "Podem veure un exemple amb una variable de tipus __str__ i una altra de tipus __int__:\n"
   ]
  },
  {
   "cell_type": "code",
   "execution_count": null,
   "id": "ce0d66f9",
   "metadata": {},
   "outputs": [],
   "source": [
    "\n",
    "\n",
    "def mutabilitat():\n",
    "    text = \"foo, bar\"\n",
    "    quantitat = 6\n",
    "    \n",
    "    print(f\"{id(text) = }\")\n",
    "    print(f\"{type(text) = }\") \n",
    "    print(f\"{text = }\")\n",
    "    print(\"--- --- ---\")\n",
    "    print(f\"{id(quantitat) = }\")\n",
    "    print(f\"{type(quantitat) = }\") \n",
    "    print(f\"{quantitat = }\")\n",
    "\n",
    "mutabilitat()"
   ]
  },
  {
   "cell_type": "markdown",
   "id": "78c70856",
   "metadata": {},
   "source": [
    "Ara que coneixem que les dades a Python tenen tipus encara que no els hi diguem explícitament, hem de saber que alguns tipus de dades a Python són mutables i d'altres son inmutables i que això té implicacions a l'hora de passar les dades com a paràmetres a les nostres funcions o com a mínim a l'hora de tornar a utilitzar aquestes dades desprès d'haver passat per alguna funció.\n",
    "### Alguns tipus de dades inmutables\n",
    "* Booleans\n",
    "* Tuples\n",
    "* Enters\n",
    "* Decimals de coma flotant\n",
    "* Bytes\n",
    "* Range\n",
    "* Cadenes de text\n",
    "\n",
    "### Alguns tipus de dades mutables\n",
    "* Llistes\n",
    "* Diccionaris\n",
    "* Sets\n",
    "\n",
    "Al següent exemple podem observar que si intentem modificar un nombre enter canvia la seva _id_, en realitat estem creant un nou objecte amb el nou valor, però que si modifiquem una llista la seva _id_ no canvia:"
   ]
  },
  {
   "cell_type": "code",
   "execution_count": null,
   "id": "1364a898",
   "metadata": {},
   "outputs": [],
   "source": [
    "x = 5\n",
    "print(f\"{id(x)=}\", x)\n",
    "x += 1\n",
    "print(f\"{id(x)=}\", x)"
   ]
  },
  {
   "cell_type": "code",
   "execution_count": null,
   "id": "3c501ae6",
   "metadata": {},
   "outputs": [],
   "source": [
    "x = [5]\n",
    "print(f\"{id(x)=}\", x)\n",
    "x[0] += 1\n",
    "print(f\"{id(x)=}\", x)\n",
    "x.append(23)\n",
    "print(f\"{id(x)=}\", x)"
   ]
  },
  {
   "cell_type": "markdown",
   "id": "3461f584",
   "metadata": {},
   "source": [
    "Aquesta característica que sembla anecdòtica, es torna important quan passem variables com a paràmetres a una funció. Observem el següent exemple:"
   ]
  },
  {
   "cell_type": "code",
   "execution_count": null,
   "id": "8e910b77",
   "metadata": {},
   "outputs": [],
   "source": [
    "\n",
    "\n",
    "def incrementa_inmutable(x):\n",
    "    x += 1\n",
    "    return x\n",
    "\n",
    "\n",
    "def incrementa_mutable(x):\n",
    "    x[0] += 1\n",
    "    return x\n",
    "\n",
    "i = 9\n",
    "m = [9]\n",
    "\n",
    "incrementa_inmutable(i)\n",
    "incrementa_mutable(m)\n",
    "\n",
    "print(f\"{i=}\")\n",
    "print(f\"{m=}\")"
   ]
  },
  {
   "cell_type": "markdown",
   "id": "54c004db",
   "metadata": {},
   "source": [
    "Aquest resultat que a primera vista pot semblar incoherent és el resultat intrínsec de que els objectes siguin mutables o inmutables.\n",
    "Tornem a veure un altre cop l'exemple anterior, però aquesta vegada mostrant la id de les variables tan a dins com a fora de les funcions i abans i desprès de les modificacions:"
   ]
  },
  {
   "cell_type": "code",
   "execution_count": null,
   "id": "e79440ca",
   "metadata": {},
   "outputs": [],
   "source": [
    "\n",
    "\n",
    "def incrementa_inmutable(x):\n",
    "    print(f\"----- Dins de la funció (i): {id(x)=}\")\n",
    "    x += 1\n",
    "    print(f\"----- *Dins de la funció (i): {id(x)=}\")\n",
    "    return x\n",
    "\n",
    "\n",
    "def incrementa_mutable(x):\n",
    "    print(f\"Dins de la funció (m): {id(x)=}\")\n",
    "    x[0] += 1\n",
    "    print(f\"*Dins de la funció (m): {id(x)=}\")\n",
    "    return x\n",
    "\n",
    "i = 9\n",
    "m = [9]\n",
    "\n",
    "print(f\"----- Abans de la funció: {id(i)=}\")\n",
    "print(f\"Abans de la funció: {id(m)=}\")\n",
    "incrementa_inmutable(i)\n",
    "incrementa_mutable(m)\n",
    "\n",
    "print(f\"{i=}\")\n",
    "print(f\"{m=}\")\n",
    "\n",
    "print(f\"----- Desprès de la funció: {id(i)=}\")\n",
    "print(f\"Desprès de la funció: {id(m)=}\")\n"
   ]
  },
  {
   "cell_type": "markdown",
   "id": "03a9011b",
   "metadata": {},
   "source": [
    "Podem observar que en el cas dels objectes inmutables que es modifiquen dins d'una funció, les modificacions es desen en un objecte diferent del que es passa per paràmetre i per tant no es poden veure fora de la funció que les ha modificat."
   ]
  },
  {
   "cell_type": "code",
   "execution_count": null,
   "id": "874613b7",
   "metadata": {},
   "outputs": [],
   "source": []
  }
 ],
 "metadata": {
  "kernelspec": {
   "display_name": "Python 3 (ipykernel)",
   "language": "python",
   "name": "python3"
  },
  "language_info": {
   "codemirror_mode": {
    "name": "ipython",
    "version": 3
   },
   "file_extension": ".py",
   "mimetype": "text/x-python",
   "name": "python",
   "nbconvert_exporter": "python",
   "pygments_lexer": "ipython3",
   "version": "3.9.2"
  }
 },
 "nbformat": 4,
 "nbformat_minor": 5
}
